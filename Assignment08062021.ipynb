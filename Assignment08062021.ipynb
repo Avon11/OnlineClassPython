{
 "cells": [
  {
   "cell_type": "code",
   "execution_count": 6,
   "id": "4bfd705f",
   "metadata": {},
   "outputs": [
    {
     "name": "stdout",
     "output_type": "stream",
     "text": [
      "Enter a number20\n",
      "1 2 3 4 5 6 7 8 9 10 11 12 13 14 15 16 17 18 19 20 \n",
      "20 19 18 17 16 15 14 13 12 11 10 9 8 7 6 5 4 3 2 1 "
     ]
    }
   ],
   "source": [
    "#Write a program to print all the natural numbers from 1 to n (user input). Then print the same in reverse order.\n",
    "n=int(input(\"Enter a number\"))\n",
    "for i in range(1,n+1):\n",
    "    print(i,end=\" \")\n",
    "print()\n",
    "for i in range(n,0,-1):\n",
    "    print(i,end=\" \")"
   ]
  },
  {
   "cell_type": "code",
   "execution_count": 14,
   "id": "fa35d27f",
   "metadata": {},
   "outputs": [
    {
     "name": "stdout",
     "output_type": "stream",
     "text": [
      "\n",
      "1  2 \n",
      "3  4 \n",
      "5  6 \n",
      "7  8 \n",
      "9  10 \n",
      "11  12 \n",
      "13  14 \n",
      "15  16 \n",
      "17  18 \n",
      "19  20 \n",
      "21  22 \n",
      "23  24 \n",
      "25  26 \n",
      "27  28 \n",
      "29  30 \n",
      "31  32 \n",
      "33  34 \n",
      "35  36 \n",
      "37  38 \n",
      "39  40 \n",
      "41  42 \n",
      "43  44 \n",
      "45  46 \n",
      "47  48 \n",
      "49  50 \n",
      "51  52 \n",
      "53  54 \n",
      "55  56 \n",
      "57  58 \n",
      "59  60 \n",
      "61  62 \n",
      "63  64 \n",
      "65  66 \n",
      "67  68 \n",
      "69  70 \n",
      "71  72 \n",
      "73  74 \n",
      "75  76 \n",
      "77  78 \n",
      "79  80 \n",
      "81  82 \n",
      "83  84 \n",
      "85  86 \n",
      "87  88 \n",
      "89  90 \n",
      "91  92 \n",
      "93  94 \n",
      "95  96 \n",
      "97  98 \n",
      "99  100 "
     ]
    }
   ],
   "source": [
    "#Print all odd numbers and even numbers between 1 to 100.\n",
    "for i in range(1,101):\n",
    "    if i%2==0:\n",
    "        print(i,end=\" \")\n",
    "    else:\n",
    "        print()\n",
    "        print(i,end=\"  \")"
   ]
  },
  {
   "cell_type": "code",
   "execution_count": null,
   "id": "4ef1acd9",
   "metadata": {},
   "outputs": [],
   "source": [
    "'''\n",
    "2, 3, 5, 7, 11, 13, 17, 19, 23, 29, 31, 37, 41, 43, 47, 53,\n",
    "'''"
   ]
  },
  {
   "cell_type": "code",
   "execution_count": 31,
   "id": "4d90dc2e",
   "metadata": {},
   "outputs": [
    {
     "name": "stdout",
     "output_type": "stream",
     "text": [
      "Enter a number:44\n",
      "44  Not prime\n"
     ]
    }
   ],
   "source": [
    "#Write a program to check if a number is prime or not. Example: 7 ==> True, 6 ==> False\n",
    "n=int(input(\"Enter a number:\"))\n",
    "count=0\n",
    "for i in range(1,n+1):\n",
    "    if(n%i==0):\n",
    "        count=count+1\n",
    "if(count>2):\n",
    "    print(n,\" Not prime\")\n",
    "else:\n",
    "    print(n,\" is prime\")"
   ]
  },
  {
   "cell_type": "code",
   "execution_count": 34,
   "id": "53f76e90",
   "metadata": {},
   "outputs": [
    {
     "name": "stdout",
     "output_type": "stream",
     "text": [
      "Enter a number:19\n",
      "3 5 6 9 10 12 15 18 \n",
      "sum = 78\n"
     ]
    }
   ],
   "source": [
    "#Write a program that asks the user for a number n and prints the sum of the numbers 1 to n such that only multiples of three or five are considered in the sum, e.g. 3, 5, 6, 9, 10, 12, 15 for n=17.\n",
    "\n",
    "n=int(input(\"Enter a number:\"))\n",
    "sum=0\n",
    "for i in range(1,n):\n",
    "    if i%3==0 or i%5==0:\n",
    "        print(i,end=\" \")\n",
    "        sum=sum+i\n",
    "print()\n",
    "print(\"sum =\",sum)"
   ]
  },
  {
   "cell_type": "code",
   "execution_count": 42,
   "id": "a93b28cb",
   "metadata": {},
   "outputs": [
    {
     "name": "stdout",
     "output_type": "stream",
     "text": [
      "Enter a number:10\n",
      "Enter 1 for SUM .... Enter 2 for PRODUCT3\n",
      "Wrong choice!!!\n",
      " \n"
     ]
    }
   ],
   "source": [
    "#Write a program that asks the user for a number n and gives them the possibility to choose between computing the sum and computing the product of 1,…,n.\n",
    "n=int(input(\"Enter a number:\"))\n",
    "ch=int(input(\"Enter 1 for SUM .... Enter 2 for PRODUCT\"))\n",
    "pro=1\n",
    "sum=0\n",
    "for i in range(1,n):\n",
    "    if(ch==1):\n",
    "        sum=sum+i\n",
    "        pro=''\n",
    "    elif(ch==2):\n",
    "        pro=pro*i\n",
    "        sum=''\n",
    "    else:\n",
    "        print(\"Wrong choice!!!\")\n",
    "        pro=''\n",
    "        sum=''\n",
    "        break\n",
    "print(sum,pro)"
   ]
  },
  {
   "cell_type": "code",
   "execution_count": 43,
   "id": "43869b51",
   "metadata": {},
   "outputs": [
    {
     "name": "stdout",
     "output_type": "stream",
     "text": [
      "sum = 233168\n"
     ]
    }
   ],
   "source": [
    "#Find the sum of all the multiples of 3 or 5 below 1000.\n",
    "sum=0\n",
    "for i in range(1,1000):\n",
    "    if i%3==0 or i%5==0:\n",
    "        sum=sum+i\n",
    "print(\"sum =\",sum)"
   ]
  },
  {
   "cell_type": "code",
   "execution_count": 45,
   "id": "2bc554d2",
   "metadata": {},
   "outputs": [
    {
     "name": "stdout",
     "output_type": "stream",
     "text": [
      "2002 2009 2016 2023 2037 2044 2051 2058 2072 2079 2086 2093 2107 2114 2121 2128 2142 2149 2156 2163 2177 2184 2191 2198 2212 2219 2226 2233 2247 2254 2261 2268 2282 2289 2296 2303 2317 2324 2331 2338 2352 2359 2366 2373 2387 2394 2401 2408 2422 2429 2436 2443 2457 2464 2471 2478 2492 2499 2506 2513 2527 2534 2541 2548 2562 2569 2576 2583 2597 2604 2611 2618 2632 2639 2646 2653 2667 2674 2681 2688 2702 2709 2716 2723 2737 2744 2751 2758 2772 2779 2786 2793 2807 2814 2821 2828 2842 2849 2856 2863 2877 2884 2891 2898 2912 2919 2926 2933 2947 2954 2961 2968 2982 2989 2996 3003 3017 3024 3031 3038 3052 3059 3066 3073 3087 3094 3101 3108 3122 3129 3136 3143 3157 3164 3171 3178 3192 3199 "
     ]
    }
   ],
   "source": [
    "#Write a program which will find all such numbers which are divisible by 7 but are not a multiple of 5, between 2000 and 3200 (both included).\n",
    "for i in range(2000,3201):\n",
    "    if i%7==0 and i%5!=0:\n",
    "        print(i,end=\" \")"
   ]
  },
  {
   "cell_type": "code",
   "execution_count": 48,
   "id": "220797c2",
   "metadata": {},
   "outputs": [
    {
     "name": "stdout",
     "output_type": "stream",
     "text": [
      "square of the sum - sum of the squares  =  25164150\n"
     ]
    }
   ],
   "source": [
    "# Find the difference between the sum of the squares of the first one hundred natural numbers and the square of the sum.\n",
    "sumOfSqure=0\n",
    "sum=0\n",
    "for i in range(1,101):\n",
    "    sumOfSqure=sumOfSqure+(i**2)\n",
    "    sum=sum+i\n",
    "diff=(sum**2)-sumOfSqure  \n",
    "print(\"square of the sum - sum of the squares  = \",diff)"
   ]
  },
  {
   "cell_type": "code",
   "execution_count": 51,
   "id": "de61cfa5",
   "metadata": {},
   "outputs": [
    {
     "name": "stdout",
     "output_type": "stream",
     "text": [
      "Enter a number:5\n",
      "The factorial of 5 is 120\n"
     ]
    }
   ],
   "source": [
    "#Write a program which can compute the factorial of a given number.\n",
    "num=int(input(\"Enter a number:\"))\n",
    "factorial = 1\n",
    "if num < 0:\n",
    "    print(\"factorial does not exist for negative numbers\")\n",
    "elif num == 0:\n",
    "    print(\"The factorial of 0 is 1\")\n",
    "else:\n",
    "    for i in range(1,num + 1):\n",
    "        factorial = factorial*i\n",
    "    print(\"The factorial of\",num,\"is\",factorial)"
   ]
  },
  {
   "cell_type": "code",
   "execution_count": null,
   "id": "4b31b5f8",
   "metadata": {},
   "outputs": [],
   "source": [
    "'''\n",
    "1\n",
    "\n",
    "2 2\n",
    "\n",
    "3 3 3\n",
    "\n",
    "4 4 4 4\n",
    "\n",
    "5 5 5 5 5\n",
    "'''"
   ]
  },
  {
   "cell_type": "code",
   "execution_count": 55,
   "id": "8faf527e",
   "metadata": {},
   "outputs": [
    {
     "name": "stdout",
     "output_type": "stream",
     "text": [
      "Enter a number:5\n",
      "\n",
      "1 \n",
      "2 2 \n",
      "3 3 3 \n",
      "4 4 4 4 \n",
      "5 5 5 5 5 \n"
     ]
    }
   ],
   "source": [
    "n=int(input(\"Enter a number:\"))\n",
    "for i in range(n+1):\n",
    "    for j in range(i):\n",
    "        print(i,end=\" \")\n",
    "    print()"
   ]
  },
  {
   "cell_type": "code",
   "execution_count": null,
   "id": "2c85de62",
   "metadata": {},
   "outputs": [],
   "source": [
    "'''\n",
    "5 5 5 5 5 \n",
    "5 4 4 4 5 \n",
    "5 4 3 4 5 \n",
    "5 4 4 4 5 \n",
    "5 5 5 5 5\n",
    "'''"
   ]
  },
  {
   "cell_type": "code",
   "execution_count": 56,
   "id": "1b11e7ca",
   "metadata": {},
   "outputs": [
    {
     "name": "stdout",
     "output_type": "stream",
     "text": [
      "5\n",
      "5 5 5 5 5 \n",
      "5 4 4 4 5 \n",
      "5 4 3 4 5 \n",
      "5 4 4 4 5 \n",
      "5 5 5 5 5 \n"
     ]
    }
   ],
   "source": [
    "n=int(input())\n",
    "for i in range(n):\n",
    "    for j in range(n):\n",
    "        print(max(i+1,j+1,n-i,n-j),end=\" \")\n",
    "    print() "
   ]
  },
  {
   "cell_type": "code",
   "execution_count": null,
   "id": "abe74ac3",
   "metadata": {},
   "outputs": [],
   "source": [
    "'''\n",
    "* \n",
    "* * \n",
    "* * * \n",
    "* * * * \n",
    "* * * * *\n",
    "'''"
   ]
  },
  {
   "cell_type": "code",
   "execution_count": 57,
   "id": "544af323",
   "metadata": {},
   "outputs": [
    {
     "name": "stdout",
     "output_type": "stream",
     "text": [
      "Enter a number:5\n",
      "\n",
      "* \n",
      "* * \n",
      "* * * \n",
      "* * * * \n",
      "* * * * * \n"
     ]
    }
   ],
   "source": [
    "n=int(input(\"Enter a number:\"))\n",
    "for i in range(n+1):\n",
    "    for j in range(i):\n",
    "        print(\"*\",end=\" \")\n",
    "    print()"
   ]
  },
  {
   "cell_type": "code",
   "execution_count": null,
   "id": "206d467b",
   "metadata": {},
   "outputs": [],
   "source": [
    "'''\n",
    "****\n",
    "***\n",
    "**\n",
    "*\n",
    "'''"
   ]
  },
  {
   "cell_type": "code",
   "execution_count": 58,
   "id": "620b69a5",
   "metadata": {},
   "outputs": [
    {
     "name": "stdout",
     "output_type": "stream",
     "text": [
      "Enter a number:5\n",
      "* * * * \n",
      "* * * \n",
      "* * \n",
      "* \n",
      "\n",
      "\n"
     ]
    }
   ],
   "source": [
    "n=int(input(\"Enter a number:\"))\n",
    "for i in range(n+1):\n",
    "    for j in range(j):\n",
    "        print(\"*\",end=\" \")\n",
    "    print()"
   ]
  },
  {
   "cell_type": "code",
   "execution_count": null,
   "id": "c38b5c6f",
   "metadata": {},
   "outputs": [],
   "source": [
    "'''\n",
    "#####\n",
    "#####\n",
    "#####\n",
    "#####\n",
    "#####\n",
    "'''"
   ]
  },
  {
   "cell_type": "code",
   "execution_count": 60,
   "id": "c8205587",
   "metadata": {},
   "outputs": [
    {
     "name": "stdout",
     "output_type": "stream",
     "text": [
      "Enter a number:5\n",
      "# # # # # \n",
      "# # # # # \n",
      "# # # # # \n",
      "# # # # # \n",
      "# # # # # \n"
     ]
    }
   ],
   "source": [
    "n=int(input(\"Enter a number:\"))\n",
    "for i in range(n):\n",
    "    for j in range(n):\n",
    "        print(\"#\",end=\" \")\n",
    "    print()"
   ]
  },
  {
   "cell_type": "code",
   "execution_count": null,
   "id": "b0bb1ed0",
   "metadata": {},
   "outputs": [],
   "source": [
    "#Write a program that computes the value of a+aa+aaa+aaaa with a given digit as the value of a. Suppose the following input is supplied to the program: 9, Then, the output should be: 9 + 99 + 999 + 9999 =  11106."
   ]
  },
  {
   "cell_type": "code",
   "execution_count": 63,
   "id": "94302bca",
   "metadata": {},
   "outputs": [
    {
     "name": "stdout",
     "output_type": "stream",
     "text": [
      "Enter digit:4\n",
      "enter a number:9\n",
      "11106\n"
     ]
    }
   ],
   "source": [
    "digit=int(input(\"Enter digit:\"))\n",
    "n=input(\"enter a number:\")\n",
    "result=0\n",
    "for i in range(1,digit+1):\n",
    "    result= result + int(str(n*i))\n",
    "    \n",
    "print(result)"
   ]
  },
  {
   "cell_type": "code",
   "execution_count": 66,
   "id": "92bb5a40",
   "metadata": {},
   "outputs": [
    {
     "name": "stdout",
     "output_type": "stream",
     "text": [
      "Abhinav Rana\n",
      "Length of string:  12\n"
     ]
    }
   ],
   "source": [
    "#Find the length of a string using loops (not len()).\n",
    "string=input()\n",
    "count=0\n",
    "for i in string:\n",
    "    count=count+1\n",
    "print(\"Length of string: \",count)"
   ]
  },
  {
   "cell_type": "code",
   "execution_count": 73,
   "id": "baa84664",
   "metadata": {},
   "outputs": [
    {
     "name": "stdout",
     "output_type": "stream",
     "text": [
      "A1bh1na1 Ra7a\n",
      "8 4\n"
     ]
    }
   ],
   "source": [
    "#Write a program that accepts a sentence (string) and calculate the number of letters and digits. Example: ‘this is a test sentence number 389’ ==> letters = 25 and digits = 3.\n",
    "\n",
    "st=input()\n",
    "string=st.replace(\" \",\"\")\n",
    "countLetter=0\n",
    "countDigit=0\n",
    "for i in string:\n",
    "    if i.isdigit():\n",
    "        countDigit=countDigit+1\n",
    "    else:\n",
    "        countLetter=countLetter+1\n",
    "        \n",
    "print(countLetter,countDigit)"
   ]
  },
  {
   "cell_type": "code",
   "execution_count": 90,
   "id": "bc84b788",
   "metadata": {},
   "outputs": [
    {
     "name": "stdout",
     "output_type": "stream",
     "text": [
      "Abhinav,rana,roorkee\n",
      "ABHINAV,RANA,ROORKEE\n"
     ]
    }
   ],
   "source": [
    "#Write a program that accepts a string and outputs the string with all capital letters.\n",
    "st=input()\n",
    "string=''\n",
    "ran=len(st)\n",
    "for i in range(ran):\n",
    "    if st[i]>='a' and st[i]<='z':\n",
    "        string=string+chr((ord(st[i]) - 32))\n",
    "    else:\n",
    "        string=string+st[i]\n",
    "print(string)\n",
    "        \n"
   ]
  },
  {
   "cell_type": "code",
   "execution_count": 95,
   "id": "736f0920",
   "metadata": {},
   "outputs": [
    {
     "name": "stdout",
     "output_type": "stream",
     "text": [
      "Abhinav RANA\n",
      "No. of upper case : 5  No. of lowercase:  6\n"
     ]
    }
   ],
   "source": [
    "#Write a program that accepts a sentence and calculate the number of upper case letters and lower case letters.\n",
    "countLower=0\n",
    "countUpper=0\n",
    "st=input()\n",
    "string=st.replace(\" \",\"\")\n",
    "ran=len(string)\n",
    "\n",
    "for i in range(ran):\n",
    "    if string[i].islower():\n",
    "        countLower=countLower+1\n",
    "    elif string[i].isupper():\n",
    "        countUpper=countUpper+1\n",
    "print(\"No. of upper case :\",countUpper,\" No. of lowercase: \",countLower)"
   ]
  },
  {
   "cell_type": "code",
   "execution_count": 97,
   "id": "650f0a1a",
   "metadata": {},
   "outputs": [
    {
     "name": "stdout",
     "output_type": "stream",
     "text": [
      "Enter string Abhinav Rana Roorkee Uttarakhand India\n",
      "Enter Character for count a\n",
      "Count of  a  =  7\n"
     ]
    }
   ],
   "source": [
    "#Write  a program that counts the occurrence of a character in a string. Example: ‘This is a test string.’ count of i = 3\n",
    "countChar=0\n",
    "st=input(\"Enter string \")\n",
    "ch=input(\"Enter Character for count \")\n",
    "string=st.replace(\" \",\"\")\n",
    "ran=len(string)\n",
    "for i in range(ran):\n",
    "    if string[i]==ch:\n",
    "        countChar=countChar+1\n",
    "print(\"Count of \",ch,\" = \",countChar)"
   ]
  },
  {
   "cell_type": "code",
   "execution_count": 105,
   "id": "3e46adbc",
   "metadata": {},
   "outputs": [
    {
     "name": "stdout",
     "output_type": "stream",
     "text": [
      "Enter string radar\n",
      "Palindrome\n"
     ]
    }
   ],
   "source": [
    "#Write a program to find if a given string is a palindrome or not.\n",
    "st1=input(\"Enter string: \")\n",
    "st2=st1[::-1]\n",
    "if st1==st2:\n",
    "    print(\"Palindrome\")\n",
    "else:\n",
    "    print(\"Not Palindrome\")"
   ]
  },
  {
   "cell_type": "code",
   "execution_count": 107,
   "id": "8642e4f7",
   "metadata": {},
   "outputs": [
    {
     "name": "stdout",
     "output_type": "stream",
     "text": [
      "Enter string:Abhinav\n",
      "Enter word:Abhi\n",
      "Substring in string!\n"
     ]
    }
   ],
   "source": [
    "#Write a program which accepts two strings s1 and s2 and checks if s2 is a substring of s1.\n",
    "string=input(\"Enter string:\")\n",
    "sub_str=input(\"Enter word:\")\n",
    "if(string.find(sub_str)==-1):\n",
    "      print(\"Substring not found\")\n",
    "else:\n",
    "      print(\"Substring is found\")"
   ]
  },
  {
   "cell_type": "code",
   "execution_count": 115,
   "id": "96c29905",
   "metadata": {},
   "outputs": [
    {
     "name": "stdout",
     "output_type": "stream",
     "text": [
      "Enter password abhi@#123\n",
      "Password correct\n"
     ]
    }
   ],
   "source": [
    "#Make a password validator with the following checks. A website requires the users to input username and password to register. Write a program to check the validity of password input by users.\n",
    "st=input(\"Enter password \")\n",
    "countL=0\n",
    "countS=0\n",
    "countD=0\n",
    "ran=len(st)    #@$#%&\n",
    "for i in range(ran):\n",
    "    if st[i]>='a' and st[i]<='z':\n",
    "        countL=countL+1\n",
    "        \n",
    "    elif st[i]=='#'or st[i]=='@' or st[i]=='&' or st[i]=='$'or st[i]=='%':\n",
    "        countS=countS+1\n",
    "        \n",
    "    elif ord(st[i])>=48 and ord(st[i])<=57:\n",
    "        countD=countD+1\n",
    "\n",
    "if(countS>=1 and countD>=1 and countL>=1):\n",
    "    print(\"Password correct\")\n",
    "else:\n",
    "    print(\"Password Incorrect\")"
   ]
  },
  {
   "cell_type": "code",
   "execution_count": 123,
   "id": "c463f142",
   "metadata": {},
   "outputs": [
    {
     "name": "stdout",
     "output_type": "stream",
     "text": [
      "Enter String The Random Sentence Generator\n",
      "e\n",
      "a\n",
      "o\n"
     ]
    }
   ],
   "source": [
    "# s = \"Hello how are you all\". For this given string write a code such that it prints the vowels present in the string s if any. ex: \"i\", \"a\" etc.\n",
    "vowel=['a','e','i','o','u']\n",
    "found=[]\n",
    "st=input(\"Enter String \")\n",
    "string=st.lower()\n",
    "for letter in string:\n",
    "    if letter in vowel:\n",
    "        if letter not in found:\n",
    "            found.append(letter)\n",
    "for vowel in found:\n",
    "    print(vowel)"
   ]
  },
  {
   "cell_type": "code",
   "execution_count": null,
   "id": "17c8cd12",
   "metadata": {},
   "outputs": [],
   "source": []
  },
  {
   "cell_type": "code",
   "execution_count": null,
   "id": "f7b75469",
   "metadata": {},
   "outputs": [],
   "source": []
  },
  {
   "cell_type": "code",
   "execution_count": null,
   "id": "75f8ec49",
   "metadata": {},
   "outputs": [],
   "source": []
  },
  {
   "cell_type": "code",
   "execution_count": null,
   "id": "463165d3",
   "metadata": {},
   "outputs": [],
   "source": []
  }
 ],
 "metadata": {
  "kernelspec": {
   "display_name": "Python 3",
   "language": "python",
   "name": "python3"
  },
  "language_info": {
   "codemirror_mode": {
    "name": "ipython",
    "version": 3
   },
   "file_extension": ".py",
   "mimetype": "text/x-python",
   "name": "python",
   "nbconvert_exporter": "python",
   "pygments_lexer": "ipython3",
   "version": "3.9.5"
  }
 },
 "nbformat": 4,
 "nbformat_minor": 5
}
