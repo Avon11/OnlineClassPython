{
 "cells": [
  {
   "cell_type": "code",
   "execution_count": 21,
   "id": "c83aa45d",
   "metadata": {},
   "outputs": [
    {
     "name": "stdout",
     "output_type": "stream",
     "text": [
      "22\n"
     ]
    },
    {
     "data": {
      "text/plain": [
       "['Hey', 'iam', 'from', 'New', 'Delhi']"
      ]
     },
     "execution_count": 21,
     "metadata": {},
     "output_type": "execute_result"
    }
   ],
   "source": [
    "#Find out: length of string, convert this to list using split operation.\n",
    "info=\"Hey iam from New Delhi\"\n",
    "print(len(info))\n",
    "info.split()"
   ]
  },
  {
   "cell_type": "code",
   "execution_count": 11,
   "id": "a649a33c",
   "metadata": {},
   "outputs": [
    {
     "name": "stdout",
     "output_type": "stream",
     "text": [
      "Name is rahul\n",
      "NAME IS RAHUL\n"
     ]
    },
    {
     "data": {
      "text/plain": [
       "'Rame Is Rahul'"
      ]
     },
     "execution_count": 11,
     "metadata": {},
     "output_type": "execute_result"
    }
   ],
   "source": [
    "#Given string s = \"name is rahul\". Write code to give following o/p.\n",
    "s=\"name is rahul\"\n",
    "x=s.capitalize()\n",
    "print(x)\n",
    "y=s.upper()\n",
    "print(y)\n",
    "txt=s.title()\n",
    "z=list(txt)\n",
    "z[0]='R'\n",
    "\"\".join(z)"
   ]
  },
  {
   "cell_type": "code",
   "execution_count": 17,
   "id": "f0f39283",
   "metadata": {},
   "outputs": [
    {
     "name": "stdout",
     "output_type": "stream",
     "text": [
      "5\n",
      "5\n",
      "20\n"
     ]
    }
   ],
   "source": [
    "#Using length and breadth as input find out area and perimeter of a given rectangle.\n",
    "length=int(input())\n",
    "breadth=int(input())\n",
    "parameter= 2*(length+breadth)\n",
    "print(parameter)"
   ]
  },
  {
   "cell_type": "code",
   "execution_count": 20,
   "id": "36b1566f",
   "metadata": {},
   "outputs": [
    {
     "name": "stdout",
     "output_type": "stream",
     "text": [
      "50\n",
      "157.07500000000002\n"
     ]
    }
   ],
   "source": [
    "#Using diameter as input find out circumference and area of a circle.\n",
    "diameter=int(input())\n",
    "circumference = 2*3.1415*(diameter/2)\n",
    "print(circumference)"
   ]
  },
  {
   "cell_type": "code",
   "execution_count": 31,
   "id": "be059602",
   "metadata": {},
   "outputs": [
    {
     "name": "stdout",
     "output_type": "stream",
     "text": [
      "2\n",
      "5\n",
      "-3\n",
      "0.5\n",
      "-3.0\n"
     ]
    }
   ],
   "source": [
    "#Root of Quadritic Equation\n",
    "import math\n",
    "a=int(input())\n",
    "b=int(input())\n",
    "c=int(input())\n",
    "dTemp=(b*b)-(4*a*c)\n",
    "d=math.sqrt(dTemp)\n",
    "r1=(-b+d)/(2*a)\n",
    "r2=(-b-d)/(2*a)\n",
    "print(r1)\n",
    "print(r2)\n"
   ]
  },
  {
   "cell_type": "code",
   "execution_count": 33,
   "id": "8db432a1",
   "metadata": {},
   "outputs": [
    {
     "name": "stdout",
     "output_type": "stream",
     "text": [
      "5\n",
      "526.2012500000001\n"
     ]
    }
   ],
   "source": [
    "#Find volume of a sphere using radius as input.\n",
    "import math\n",
    "r=int(input())\n",
    "radius=math.pow(r,3)\n",
    "vol=1.33*3.1415*radius\n",
    "print(vol)"
   ]
  },
  {
   "cell_type": "code",
   "execution_count": 38,
   "id": "329091e3",
   "metadata": {},
   "outputs": [
    {
     "name": "stdout",
     "output_type": "stream",
     "text": [
      "1234567890\n",
      "10\n"
     ]
    }
   ],
   "source": [
    "#Count the  number of digits in a number\n",
    "num=int(input())\n",
    "count=0\n",
    "while num!=0:\n",
    "    num=num//10\n",
    "    count+=1\n",
    "print(count)"
   ]
  },
  {
   "cell_type": "code",
   "execution_count": 39,
   "id": "a1839cb2",
   "metadata": {},
   "outputs": [
    {
     "name": "stdout",
     "output_type": "stream",
     "text": [
      "abhinav rana \n",
      "ABHINAV RANA \n"
     ]
    }
   ],
   "source": [
    "#Write a program that accepts a string and gives output string with all capital letters\n",
    "st=input()\n",
    "string=st.upper()\n",
    "print(string)"
   ]
  },
  {
   "cell_type": "code",
   "execution_count": 41,
   "id": "abbf5a7b",
   "metadata": {},
   "outputs": [
    {
     "name": "stdout",
     "output_type": "stream",
     "text": [
      "Abhinav\n",
      "0\n",
      "J\n"
     ]
    },
    {
     "data": {
      "text/plain": [
       "'Jbhinav'"
      ]
     },
     "execution_count": 41,
     "metadata": {},
     "output_type": "execute_result"
    }
   ],
   "source": [
    "#Write a program to that accepts a string s, an index number n and a character ‘c’. And outputs the string replaced with the character at the index number n. Example- ‘hello’ , 0 , ‘j’ ==> ‘jello’.\n",
    "s=input()\n",
    "n=int(input())\n",
    "c=input()\n",
    "string=list(s)\n",
    "string[n]=c\n",
    "\"\".join(string)"
   ]
  },
  {
   "cell_type": "code",
   "execution_count": 45,
   "id": "e7dff990",
   "metadata": {},
   "outputs": [
    {
     "name": "stdout",
     "output_type": "stream",
     "text": [
      "abhinav rana\n"
     ]
    },
    {
     "data": {
      "text/plain": [
       "'anar vanihba'"
      ]
     },
     "execution_count": 45,
     "metadata": {},
     "output_type": "execute_result"
    }
   ],
   "source": [
    "#Reverse a string. Example: 'Hey there' = 'ereht yeH'\n",
    "s=input()\n",
    "s1=list(s)\n",
    "\"\".join(s1[::-1])"
   ]
  },
  {
   "cell_type": "code",
   "execution_count": null,
   "id": "456f9098",
   "metadata": {},
   "outputs": [],
   "source": []
  }
 ],
 "metadata": {
  "kernelspec": {
   "display_name": "Python 3",
   "language": "python",
   "name": "python3"
  },
  "language_info": {
   "codemirror_mode": {
    "name": "ipython",
    "version": 3
   },
   "file_extension": ".py",
   "mimetype": "text/x-python",
   "name": "python",
   "nbconvert_exporter": "python",
   "pygments_lexer": "ipython3",
   "version": "3.9.5"
  }
 },
 "nbformat": 4,
 "nbformat_minor": 5
}
