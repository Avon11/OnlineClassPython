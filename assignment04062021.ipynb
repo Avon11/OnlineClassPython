{
 "cells": [
  {
   "cell_type": "code",
   "execution_count": 21,
   "id": "6c64ac32",
   "metadata": {},
   "outputs": [
    {
     "name": "stdout",
     "output_type": "stream",
     "text": [
      "15 15 15 15 15 15 15 15 15 15 15 15 15 15 15 \n",
      "15 14 14 14 14 14 14 14 14 14 14 14 14 14 15 \n",
      "15 14 13 13 13 13 13 13 13 13 13 13 13 14 15 \n",
      "15 14 13 12 12 12 12 12 12 12 12 12 13 14 15 \n",
      "15 14 13 12 11 11 11 11 11 11 11 12 13 14 15 \n",
      "15 14 13 12 11 10 10 10 10 10 11 12 13 14 15 \n",
      "15 14 13 12 11 10 9 9 9 10 11 12 13 14 15 \n",
      "15 14 13 12 11 10 9 8 9 10 11 12 13 14 15 \n",
      "15 14 13 12 11 10 9 9 9 10 11 12 13 14 15 \n",
      "15 14 13 12 11 10 10 10 10 10 11 12 13 14 15 \n",
      "15 14 13 12 11 11 11 11 11 11 11 12 13 14 15 \n",
      "15 14 13 12 12 12 12 12 12 12 12 12 13 14 15 \n",
      "15 14 13 13 13 13 13 13 13 13 13 13 13 14 15 \n",
      "15 14 14 14 14 14 14 14 14 14 14 14 14 14 15 \n",
      "15 15 15 15 15 15 15 15 15 15 15 15 15 15 15 \n"
     ]
    }
   ],
   "source": [
    "n=15\n",
    "for i in range(n):\n",
    "    for j in range(n):\n",
    "        print(max(i+1,j+1,n-i,n-j),end=\" \")\n",
    "    print()   "
   ]
  },
  {
   "cell_type": "code",
   "execution_count": 12,
   "id": "5cfb2df5",
   "metadata": {},
   "outputs": [
    {
     "name": "stdout",
     "output_type": "stream",
     "text": [
      "Friend?0/1: 0\n",
      "Blocked?0/1: 1\n",
      "Admin?0/1: 1\n",
      "Bhagwaan?0/1: 0\n",
      "access denied🔴\n"
     ]
    }
   ],
   "source": [
    "# 0-False 1-True\n",
    "a=int(input(\"Friend?0/1: \"))\n",
    "b=int(input(\"Blocked?0/1: \"))\n",
    "c=int(input(\"Admin?0/1: \"))\n",
    "d=int(input(\"Bhagwaan?0/1: \"))\n",
    "if(d or (not b and a) or (not b and c)):\n",
    "    print(\"access granted🟢\")\n",
    "else:\n",
    "    print(\"access denied🔴\")"
   ]
  },
  {
   "cell_type": "code",
   "execution_count": null,
   "id": "5e548c34",
   "metadata": {},
   "outputs": [],
   "source": []
  }
 ],
 "metadata": {
  "kernelspec": {
   "display_name": "Python 3",
   "language": "python",
   "name": "python3"
  },
  "language_info": {
   "codemirror_mode": {
    "name": "ipython",
    "version": 3
   },
   "file_extension": ".py",
   "mimetype": "text/x-python",
   "name": "python",
   "nbconvert_exporter": "python",
   "pygments_lexer": "ipython3",
   "version": "3.9.5"
  }
 },
 "nbformat": 4,
 "nbformat_minor": 5
}
